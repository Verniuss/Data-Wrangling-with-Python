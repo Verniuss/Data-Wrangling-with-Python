{
 "cells": [
  {
   "cell_type": "markdown",
   "id": "de224f34",
   "metadata": {},
   "source": [
    "# 3. Create a series and practice basic arithmetic steps\n",
    "#### a. Series 1 = 7.3, -2.5, 3.4, 1.5\n",
    "     i. Index = ‘a’, ‘c’, ‘d’, ‘e’\n",
    "#### b. Series 2 = -2.1, 3.6, -1.5, 4, 3.1\n",
    "     i. Index = ‘a’, ‘c’, ‘e’, ‘f’, ‘g’\n",
    "#### c. Add Series 1 and Series 2 together and print the results\n",
    "#### d. Subtract Series 1 from Series 2 and print the results"
   ]
  },
  {
   "cell_type": "code",
   "execution_count": 3,
   "id": "f265bd37",
   "metadata": {},
   "outputs": [
    {
     "data": {
      "text/plain": [
       "0    14.6\n",
       "1    -5.0\n",
       "2     6.8\n",
       "3     3.0\n",
       "dtype: float64"
      ]
     },
     "execution_count": 3,
     "metadata": {},
     "output_type": "execute_result"
    }
   ],
   "source": [
    "# a. Series 1 = 7.3, -2.5, 3.4, 1.5\n",
    "\n",
    "# importing the module\n",
    "import pandas as pd\n",
    "\n",
    "# creating 2 Pandas Series\n",
    "Series1 = pd.Series([7.3, -2.5, 3.4, 1.5])\n",
    "Series2 = pd.Series([-2.1, 3.6, -1.5, 4, 3.1])\n",
    "\n",
    "# Add Series 1 and Series 2 together and print the results\n",
    "Series3 = Series1 + Series2\n",
    "Series3"
   ]
  },
  {
   "cell_type": "code",
   "execution_count": 6,
   "id": "2cac97cd",
   "metadata": {},
   "outputs": [
    {
     "data": {
      "text/plain": [
       "0   -9.4\n",
       "1    6.1\n",
       "2   -4.9\n",
       "3    2.5\n",
       "4    NaN\n",
       "dtype: float64"
      ]
     },
     "execution_count": 6,
     "metadata": {},
     "output_type": "execute_result"
    }
   ],
   "source": [
    "# Subtract Series 1 from Series 2 and print the results\n",
    "Series3 = Series2 - Series1\n",
    "Series3"
   ]
  },
  {
   "cell_type": "code",
   "execution_count": null,
   "id": "ede07292",
   "metadata": {},
   "outputs": [],
   "source": []
  }
 ],
 "metadata": {
  "kernelspec": {
   "display_name": "Python 3",
   "language": "python",
   "name": "python3"
  },
  "language_info": {
   "codemirror_mode": {
    "name": "ipython",
    "version": 3
   },
   "file_extension": ".py",
   "mimetype": "text/x-python",
   "name": "python",
   "nbconvert_exporter": "python",
   "pygments_lexer": "ipython3",
   "version": "3.8.8"
  }
 },
 "nbformat": 4,
 "nbformat_minor": 5
}
