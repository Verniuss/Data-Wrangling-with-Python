{
 "cells": [
  {
   "cell_type": "code",
   "execution_count": 1,
   "id": "887a4eeb",
   "metadata": {},
   "outputs": [],
   "source": [
    "import requests\n",
    "import bs4\n",
    "from bs4 import BeautifulSoup"
   ]
  },
  {
   "cell_type": "code",
   "execution_count": 2,
   "id": "0f8f648e",
   "metadata": {},
   "outputs": [],
   "source": [
    "url = 'https://www.cdc.gov/diabetes/data/statistics-report/diagnosed-undiagnosed-diabetes.html'"
   ]
  },
  {
   "cell_type": "code",
   "execution_count": 4,
   "id": "429d225c",
   "metadata": {},
   "outputs": [],
   "source": [
    "headers = {\n",
    "    'User-Agent': \"Mozilla/5.0 (Windows NT 10.0; Win64; x64) AppleWebKit/537.36 (KHTML, like Gecko) Chrome/103.0.0.0 Safari/537.36\"\n",
    "}"
   ]
  },
  {
   "cell_type": "code",
   "execution_count": 5,
   "id": "a7d7ce09",
   "metadata": {},
   "outputs": [],
   "source": [
    "r = requests.get(url,{'headers':headers})"
   ]
  },
  {
   "cell_type": "code",
   "execution_count": 6,
   "id": "001b5969",
   "metadata": {},
   "outputs": [],
   "source": [
    "soup = bs4.BeautifulSoup(r.text,'html.parser')"
   ]
  },
  {
   "cell_type": "code",
   "execution_count": 12,
   "id": "d6e98c17",
   "metadata": {},
   "outputs": [
    {
     "data": {
      "text/plain": [
       "<div class=\"card-body bg-white\"><style>\n",
       ".table-section {background-color: #CCC;}\n",
       "</style>\n",
       "<table class=\"table table-bordered\" data-preserve-inline-styles=\"true\">\n",
       "<caption class=\"caption-top\"><strong>Table 1a. Estimated crude prevalence of diagnosed diabetes, undiagnosed diabetes, and total diabetes among adults aged 18 years or older, United States, 2017–2020</strong></caption>\n",
       "<thead class=\"thead-dark\">\n",
       "<tr>\n",
       "<th align=\"center\" class=\"valign-top\" scope=\"col\">Characteristic</th>\n",
       "<th align=\"center\" scope=\"col\">Diagnosed diabetes Percentage \n",
       "(95% CI)</th>\n",
       "<th align=\"center\" scope=\"col\">Undiagnosed diabetes Percentage \n",
       "(95% CI)</th>\n",
       "<th align=\"center\" scope=\"col\">Total diabetes Percentage \n",
       "(95% CI)</th>\n",
       "</tr>\n",
       "</thead>\n",
       "<tbody>\n",
       "<tr>\n",
       "<th scope=\"row\"><strong>Total</strong></th>\n",
       "<td><strong>11.3  (10.3–12.5)</strong></td>\n",
       "<td><strong>3.4  (2.7–4.2)</strong></td>\n",
       "<td><strong>14.7  (13.2–16.4)</strong></td>\n",
       "</tr>\n",
       "<tr class=\"table-section\">\n",
       "<th colspan=\"4\" scope=\"colgroup\">Age in years</th>\n",
       "</tr>\n",
       "<tr>\n",
       "<th scope=\"row\">18–44</th>\n",
       "<td>3.0 (2.4–3.7)</td>\n",
       "<td>1.9  (1.3–2.7)</td>\n",
       "<td>4.8  (4.0–5.9)</td>\n",
       "</tr>\n",
       "<tr>\n",
       "<th scope=\"row\">45–64</th>\n",
       "<td>14.5  (12.2–17.0)</td>\n",
       "<td>4.5  (3.3–6.0)</td>\n",
       "<td>18.9  (16.1–22.1)</td>\n",
       "</tr>\n",
       "<tr>\n",
       "<th scope=\"row\">≥65</th>\n",
       "<td>24.4  (22.1–27.0)</td>\n",
       "<td>4.7  (3.0–7.4)</td>\n",
       "<td>29.2  (26.4–32.1)</td>\n",
       "</tr>\n",
       "<tr class=\"table-section\">\n",
       "<th class=\"table-section\" colspan=\"4\" scope=\"colgroup\">Sex</th>\n",
       "</tr>\n",
       "<tr>\n",
       "<th scope=\"row\">Men</th>\n",
       "<td>12.6  (11.1–14.3)</td>\n",
       "<td>2.8  (2.0–3.9)</td>\n",
       "<td>15.4  (13.5–17.5)</td>\n",
       "</tr>\n",
       "<tr>\n",
       "<th scope=\"row\">Women</th>\n",
       "<td>10.2  (8.8–11.7)</td>\n",
       "<td>3.9  (2.7–5.5)</td>\n",
       "<td>14.1  (11.8–16.7)</td>\n",
       "</tr>\n",
       "<tr>\n",
       "<th class=\"table-section\" colspan=\"4\" scope=\"colgroup\">Race-Ethnicity</th>\n",
       "</tr>\n",
       "<tr>\n",
       "<th scope=\"row\">White, non-Hispanic</th>\n",
       "<td>11.0  (9.4–12.8)</td>\n",
       "<td>2.7  (1.7–4.2)</td>\n",
       "<td>13.6  (11.4–16.2)</td>\n",
       "</tr>\n",
       "<tr>\n",
       "<th scope=\"row\">Black, non-Hispanic</th>\n",
       "<td>12.7  (10.7–15.0)</td>\n",
       "<td>4.7  (3.3–6.5)</td>\n",
       "<td>17.4  (15.2–19.8)</td>\n",
       "</tr>\n",
       "<tr>\n",
       "<th scope=\"row\">Asian, non-Hispanic</th>\n",
       "<td>11.3  (9.7–13.1)</td>\n",
       "<td>5.4  (3.5–8.3)</td>\n",
       "<td>16.7  (14.0–19.8)</td>\n",
       "</tr>\n",
       "<tr>\n",
       "<th scope=\"row\">Hispanic</th>\n",
       "<td>11.1  (9.5–13.0)</td>\n",
       "<td>4.4  (3.3–5.8)</td>\n",
       "<td>15.5  (13.8–17.3)</td>\n",
       "</tr>\n",
       "</tbody>\n",
       "</table>\n",
       "<p class=\"table-footer fs08\">Notes: CI = confidence interval. Time period 2017–2020 covers January 2017 through March 2020 only. Diagnosed diabetes was based on self-report. Undiagnosed diabetes was based on fasting plasma glucose and A1C levels among people self-reporting no diabetes. Numbers for subgroups may not add up to the total because of rounding. Age-adjusted estimates are presented in <a href=\"/diabetes/data/statistics-report/appendix.html#tabs-1-1\">Appendix Table 1</a>.</p>\n",
       "<p class=\"table-footer fs08\">Data source: 2017–March 2020 National Health and Nutrition Examination Survey.</p></div>"
      ]
     },
     "execution_count": 12,
     "metadata": {},
     "output_type": "execute_result"
    }
   ],
   "source": [
    "soup.find_all('div',{'class': 'card-body bg-white'})[0]"
   ]
  },
  {
   "cell_type": "code",
   "execution_count": null,
   "id": "9c61e16b",
   "metadata": {},
   "outputs": [],
   "source": []
  }
 ],
 "metadata": {
  "kernelspec": {
   "display_name": "Python 3",
   "language": "python",
   "name": "python3"
  },
  "language_info": {
   "codemirror_mode": {
    "name": "ipython",
    "version": 3
   },
   "file_extension": ".py",
   "mimetype": "text/x-python",
   "name": "python",
   "nbconvert_exporter": "python",
   "pygments_lexer": "ipython3",
   "version": "3.8.8"
  }
 },
 "nbformat": 4,
 "nbformat_minor": 5
}
