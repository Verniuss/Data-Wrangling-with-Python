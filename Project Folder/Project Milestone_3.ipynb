{
 "cells": [
  {
   "cell_type": "code",
   "execution_count": 1,
   "id": "ba80c603",
   "metadata": {},
   "outputs": [],
   "source": [
    "import requests, six\n",
    "import lxml.html as lh\n",
    "from itertools import cycle, islice\n",
    "from matplotlib import colors\n",
    "import pandas as pd\n",
    "import matplotlib.pyplot as plt\n",
    "%matplotlib inline"
   ]
  },
  {
   "cell_type": "code",
   "execution_count": 2,
   "id": "bd039f99",
   "metadata": {},
   "outputs": [],
   "source": [
    "#Save URL\n",
    "url = 'https://www.cdc.gov/diabetes/data/statistics-report/appendix.html#tabs-1-3'\n",
    "#url = 'https://www.cdc.gov/diabetes/data/statistics-report/diagnosed-undiagnosed-diabetes.html'"
   ]
  },
  {
   "cell_type": "code",
   "execution_count": 3,
   "id": "a5d69c4c",
   "metadata": {},
   "outputs": [
    {
     "data": {
      "text/plain": [
       "[4, 4, 1, 4, 4, 1, 4, 4, 4, 4, 1, 4, 4, 4, 4]"
      ]
     },
     "execution_count": 3,
     "metadata": {},
     "output_type": "execute_result"
    }
   ],
   "source": [
    "#Create handle, page, to handle the contents of the website\n",
    "page = requests.get(url)\n",
    "\n",
    "#Store the contents of the websuite under doc\n",
    "doc = lh.fromstring(page.content)\n",
    "\n",
    "#Paste data that are stored between <tr>..</tr> of the site's HTML code\n",
    "tr_elements = doc.xpath('//tr')\n",
    "\n",
    "#Check the length of the first 15 rows\n",
    "[len(T) for T in tr_elements[:15]]"
   ]
  },
  {
   "cell_type": "code",
   "execution_count": 4,
   "id": "7a969559",
   "metadata": {},
   "outputs": [
    {
     "name": "stdout",
     "output_type": "stream",
     "text": [
      "1:\"Characteristic\"\n",
      "2:\"Diagnosed diabetes\n",
      "Percentage (95% CI)\"\n",
      "3:\"Undiagnosed diabetes\n",
      "Percentage (95% CI)\"\n",
      "4:\"Total diabetes\n",
      "Percentage (95% CI)\"\n"
     ]
    }
   ],
   "source": [
    "tr_elements = doc.xpath('//tr')\n",
    "\n",
    "#Create empty list\n",
    "col = []\n",
    "i = 0\n",
    "\n",
    "#For each row, store each first element (header and an empty list\n",
    "for t in tr_elements[0]:\n",
    "    i+=1\n",
    "    name = t.text_content()\n",
    "    print ('%d:\"%s\"'%(i,name))\n",
    "    col.append((name,[]))"
   ]
  },
  {
   "cell_type": "code",
   "execution_count": 5,
   "id": "d3fc6aab",
   "metadata": {},
   "outputs": [],
   "source": [
    "#Since out first row is the header, data is stored on the second row\n",
    "for j in range(1,len(tr_elements)):\n",
    "    #T is our j'th row\n",
    "    T = tr_elements[j]\n",
    "    \n",
    "    #If row is not of size 4, the //tr data is not from our table\n",
    "    if len(T)!=4:\n",
    "        break\n",
    "        \n",
    "    #i is the index of our column\n",
    "    i = 0\n",
    "    \n",
    "    #Iterate through each element of the row\n",
    "    for t in T.iterchildren():\n",
    "        data = t.text_content()\n",
    "        #check if row is empty\n",
    "        if i>0:\n",
    "            #Convert any numerical value to integers\n",
    "            try:\n",
    "                data = int(data)\n",
    "            except:\n",
    "                pass\n",
    "            #Append the data to the empty list of the i'th column\n",
    "            col[i][1].append(data)\n",
    "            #Increment i for the next column\n",
    "            i+=1\n",
    "            "
   ]
  },
  {
   "cell_type": "code",
   "execution_count": 6,
   "id": "e4e275ea",
   "metadata": {},
   "outputs": [
    {
     "data": {
      "text/plain": [
       "[0, 0, 0, 0]"
      ]
     },
     "execution_count": 6,
     "metadata": {},
     "output_type": "execute_result"
    }
   ],
   "source": [
    "[len(C) for (title,C) in col]"
   ]
  },
  {
   "cell_type": "code",
   "execution_count": 7,
   "id": "cb7aba78",
   "metadata": {},
   "outputs": [],
   "source": [
    "Dict = {title:column for (title,column) in col}\n",
    "import pandas as pd\n",
    "df = pd.DataFrame(Dict)"
   ]
  },
  {
   "cell_type": "code",
   "execution_count": 8,
   "id": "2cd0e698",
   "metadata": {},
   "outputs": [
    {
     "data": {
      "text/html": [
       "<div>\n",
       "<style scoped>\n",
       "    .dataframe tbody tr th:only-of-type {\n",
       "        vertical-align: middle;\n",
       "    }\n",
       "\n",
       "    .dataframe tbody tr th {\n",
       "        vertical-align: top;\n",
       "    }\n",
       "\n",
       "    .dataframe thead th {\n",
       "        text-align: right;\n",
       "    }\n",
       "</style>\n",
       "<table border=\"1\" class=\"dataframe\">\n",
       "  <thead>\n",
       "    <tr style=\"text-align: right;\">\n",
       "      <th></th>\n",
       "      <th>Characteristic</th>\n",
       "      <th>Diagnosed diabetes\\nPercentage (95% CI)</th>\n",
       "      <th>Undiagnosed diabetes\\nPercentage (95% CI)</th>\n",
       "      <th>Total diabetes\\nPercentage (95% CI)</th>\n",
       "    </tr>\n",
       "  </thead>\n",
       "  <tbody>\n",
       "  </tbody>\n",
       "</table>\n",
       "</div>"
      ],
      "text/plain": [
       "Empty DataFrame\n",
       "Columns: [Characteristic, Diagnosed diabetes\n",
       "Percentage (95% CI), Undiagnosed diabetes\n",
       "Percentage (95% CI), Total diabetes\n",
       "Percentage (95% CI)]\n",
       "Index: []"
      ]
     },
     "execution_count": 8,
     "metadata": {},
     "output_type": "execute_result"
    }
   ],
   "source": [
    "df.head()"
   ]
  },
  {
   "cell_type": "code",
   "execution_count": 9,
   "id": "099919e2",
   "metadata": {},
   "outputs": [],
   "source": [
    "#Having issues not being able to retrieve the data beyond the header. Will continue to work on this to get it right."
   ]
  }
 ],
 "metadata": {
  "kernelspec": {
   "display_name": "Python 3",
   "language": "python",
   "name": "python3"
  },
  "language_info": {
   "codemirror_mode": {
    "name": "ipython",
    "version": 3
   },
   "file_extension": ".py",
   "mimetype": "text/x-python",
   "name": "python",
   "nbconvert_exporter": "python",
   "pygments_lexer": "ipython3",
   "version": "3.8.8"
  }
 },
 "nbformat": 4,
 "nbformat_minor": 5
}
